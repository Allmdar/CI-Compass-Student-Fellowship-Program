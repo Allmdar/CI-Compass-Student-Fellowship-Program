{
 "cells": [
  {
   "cell_type": "code",
   "execution_count": null,
   "metadata": {},
   "outputs": [],
   "source": [
    "import plotly.graph_objects as go\n",
    "\n",
    "# Data for the bar chart\n",
    "supercomputers = ['Frontera (TACC)', 'Cheyenne (NCAR)']\n",
    "linpack_performance = [23.5, 1.26]  # In petaflops\n",
    "power_usage = [3.5, 2]  # In megawatts\n",
    "\n",
    "# Create a grouped bar chart\n",
    "fig = go.Figure(data=[\n",
    "    go.Bar(name='LINPACK Performance', x=supercomputers, y=linpack_performance),\n",
    "    go.Bar(name='Power Usage', x=supercomputers, y=power_usage)\n",
    "])\n",
    "\n",
    "# Customize the layout\n",
    "fig.update_layout(\n",
    "    title='Comparison of LINPACK Performance and Power Usage for Frontera (TACC) and Cheyenne (NCAR)',\n",
    "    xaxis_title='Supercomputers',\n",
    "    yaxis_title='Value',\n",
    "    legend_title='Metrics',\n",
    "    barmode='group'\n",
    ")\n",
    "\n",
    "# Show the bar chart\n",
    "fig.show()\n",
    "fig.write_image(\"comparison_chart_linpack_power.png\")\n"
   ]
  }
 ],
 "metadata": {
  "language_info": {
   "name": "python"
  },
  "orig_nbformat": 4
 },
 "nbformat": 4,
 "nbformat_minor": 2
}
